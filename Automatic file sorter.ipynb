{
 "cells": [
  {
   "cell_type": "markdown",
   "id": "6aaa66ac-af08-4a62-bdae-a519c4f2dd7f",
   "metadata": {},
   "source": [
    "# Automatic File Sorter in File Explorer"
   ]
  },
  {
   "cell_type": "code",
   "execution_count": 2,
   "id": "53f4c489-0753-4345-bdfc-6a53e9dd1ce1",
   "metadata": {},
   "outputs": [],
   "source": [
    "import os, shutil"
   ]
  },
  {
   "cell_type": "code",
   "execution_count": 3,
   "id": "030c3fb0-022b-4b01-8ea6-4a2fe646c5c2",
   "metadata": {},
   "outputs": [],
   "source": [
    "path = \"D:/PowerBI/\""
   ]
  },
  {
   "cell_type": "code",
   "execution_count": 4,
   "id": "7df26df2-0cfe-469a-8e6e-9cd0c1feadec",
   "metadata": {},
   "outputs": [],
   "source": [
    "file_names = os.listdir(path)"
   ]
  },
  {
   "cell_type": "code",
   "execution_count": 5,
   "id": "5938c083-09fe-4fa8-a32b-1d75df7b6ad0",
   "metadata": {},
   "outputs": [],
   "source": [
    "folder_names=['xlsx file','csv file','pbit file','pdf file']\n",
    "\n",
    "for i in range (0,4):\n",
    "    if not os.path.exists(path + folder_names[i]):\n",
    "        os.makedirs(path + folder_names[i])\n",
    "\n",
    "for file in file_names:\n",
    "    if '.csv' in file and not os.path.exists(path+\"csv file/\"+ file):\n",
    "        shutil.move(path + file, path+\"csv file/\"+ file)\n",
    "    elif '.xlsx' in file and not os.path.exists(path+\"xlsx file/\"+ file):\n",
    "        shutil.move(path + file, path+\"xlsx file/\"+ file)\n",
    "    elif '.pbit' in file and not os.path.exists(path+\"pbit file/\"+ file):\n",
    "        shutil.move(path + file, path+\"pbit file/\"+ file)\n",
    "    elif '.pdf' in file and not os.path.exists(path+\"pdf file/\"+ file):\n",
    "        shutil.move(path + file, path+\"pdf file/\"+ file)\n",
    "  "
   ]
  },
  {
   "cell_type": "code",
   "execution_count": null,
   "id": "d8b50ebc-0183-479b-9f6d-93e7be9f1d7f",
   "metadata": {},
   "outputs": [],
   "source": []
  },
  {
   "cell_type": "code",
   "execution_count": null,
   "id": "82b46562-d51c-4da0-a696-ae92a2b6a45d",
   "metadata": {},
   "outputs": [],
   "source": []
  },
  {
   "cell_type": "code",
   "execution_count": null,
   "id": "b66746bf-9cf7-4e5d-abf3-1abab4d729d2",
   "metadata": {},
   "outputs": [],
   "source": []
  }
 ],
 "metadata": {
  "kernelspec": {
   "display_name": "Python [conda env:base] *",
   "language": "python",
   "name": "conda-base-py"
  },
  "language_info": {
   "codemirror_mode": {
    "name": "ipython",
    "version": 3
   },
   "file_extension": ".py",
   "mimetype": "text/x-python",
   "name": "python",
   "nbconvert_exporter": "python",
   "pygments_lexer": "ipython3",
   "version": "3.12.7"
  }
 },
 "nbformat": 4,
 "nbformat_minor": 5
}
